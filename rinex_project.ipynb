{
  "nbformat": 4,
  "nbformat_minor": 0,
  "metadata": {
    "colab": {
      "name": "rinex_project.ipynb",
      "provenance": [],
      "include_colab_link": true
    },
    "kernelspec": {
      "name": "python3",
      "display_name": "Python 3"
    },
    "language_info": {
      "name": "python"
    }
  },
  "cells": [
    {
      "cell_type": "markdown",
      "metadata": {
        "id": "view-in-github",
        "colab_type": "text"
      },
      "source": [
        "<a href=\"https://colab.research.google.com/github/yashaswinimaamidikuntla/rinex-project/blob/main/rinex_project.ipynb\" target=\"_parent\"><img src=\"https://colab.research.google.com/assets/colab-badge.svg\" alt=\"Open In Colab\"/></a>"
      ]
    },
    {
      "cell_type": "code",
      "execution_count": null,
      "metadata": {
        "colab": {
          "base_uri": "https://localhost:8080/",
          "height": 1000
        },
        "id": "um4-0TZLn-sa",
        "outputId": "e921a014-a547-4cf7-855d-34b1efb33125"
      },
      "outputs": [
        {
          "output_type": "execute_result",
          "data": {
            "text/plain": [
              "           textID                                               text  \\\n",
              "0      cb774db0d1                I`d have responded, if I were going   \n",
              "1      549e992a42      Sooo SAD I will miss you here in San Diego!!!   \n",
              "2      088c60f138                          my boss is bullying me...   \n",
              "3      9642c003ef                     what interview! leave me alone   \n",
              "4      358bd9e861   Sons of ****, why couldn`t they put them on t...   \n",
              "...           ...                                                ...   \n",
              "24827  9f19792407  iigghhtt, just fur geet it. idc. idk. eh blah ...   \n",
              "24828  e38943d3e1   No, I`m working on it all day Monday. Will tr...   \n",
              "24829  afe95e44cb  Doing make up for the school musical this week...   \n",
              "24830  1904c634f0   Yes,it`s beautiful and i`m fortunate to live ...   \n",
              "24831  f70185f2a9  I`m my mom`s company picnic at a Lake Elsinore...   \n",
              "\n",
              "                                           selected_text sentiment  \\\n",
              "0                    I`d have responded, if I were going   neutral   \n",
              "1                                               Sooo SAD  negative   \n",
              "2                                            bullying me  negative   \n",
              "3                                         leave me alone  negative   \n",
              "4                                          Sons of ****,  negative   \n",
              "...                                                  ...       ...   \n",
              "24827                                       immboredddd,  negative   \n",
              "24828                                              smart  positive   \n",
              "24829  Doing make up for the school musical this week...   neutral   \n",
              "24830                                          beautiful  positive   \n",
              "24831                                               None      None   \n",
              "\n",
              "      Time of Tweet Age of User      Country  Population -2020  \\\n",
              "0           morning        0-20  Afghanistan        38928346.0   \n",
              "1              noon       21-30      Albania         2877797.0   \n",
              "2             night       31-45      Algeria        43851044.0   \n",
              "3           morning       46-60      Andorra           77265.0   \n",
              "4              noon       60-70       Angola        32866272.0   \n",
              "...             ...         ...          ...               ...   \n",
              "24827         night      70-100    Australia        25499884.0   \n",
              "24828       morning        0-20      Austria         9006398.0   \n",
              "24829          noon       21-30   Azerbaijan        10139177.0   \n",
              "24830         night       31-45      Bahamas          393244.0   \n",
              "24831          None        None         None               NaN   \n",
              "\n",
              "       Land Area (Km²)  Density (P/Km²)  \n",
              "0             652860.0             60.0  \n",
              "1              27400.0            105.0  \n",
              "2            2381740.0             18.0  \n",
              "3                470.0            164.0  \n",
              "4            1246700.0             26.0  \n",
              "...                ...              ...  \n",
              "24827        7682300.0              3.0  \n",
              "24828          82400.0            109.0  \n",
              "24829          82658.0            123.0  \n",
              "24830          10010.0             39.0  \n",
              "24831              NaN              NaN  \n",
              "\n",
              "[24832 rows x 10 columns]"
            ],
            "text/html": [
              "\n",
              "  <div id=\"df-4c81e3fa-5ca1-4672-bc38-e754fdf08b52\">\n",
              "    <div class=\"colab-df-container\">\n",
              "      <div>\n",
              "<style scoped>\n",
              "    .dataframe tbody tr th:only-of-type {\n",
              "        vertical-align: middle;\n",
              "    }\n",
              "\n",
              "    .dataframe tbody tr th {\n",
              "        vertical-align: top;\n",
              "    }\n",
              "\n",
              "    .dataframe thead th {\n",
              "        text-align: right;\n",
              "    }\n",
              "</style>\n",
              "<table border=\"1\" class=\"dataframe\">\n",
              "  <thead>\n",
              "    <tr style=\"text-align: right;\">\n",
              "      <th></th>\n",
              "      <th>textID</th>\n",
              "      <th>text</th>\n",
              "      <th>selected_text</th>\n",
              "      <th>sentiment</th>\n",
              "      <th>Time of Tweet</th>\n",
              "      <th>Age of User</th>\n",
              "      <th>Country</th>\n",
              "      <th>Population -2020</th>\n",
              "      <th>Land Area (Km²)</th>\n",
              "      <th>Density (P/Km²)</th>\n",
              "    </tr>\n",
              "  </thead>\n",
              "  <tbody>\n",
              "    <tr>\n",
              "      <th>0</th>\n",
              "      <td>cb774db0d1</td>\n",
              "      <td>I`d have responded, if I were going</td>\n",
              "      <td>I`d have responded, if I were going</td>\n",
              "      <td>neutral</td>\n",
              "      <td>morning</td>\n",
              "      <td>0-20</td>\n",
              "      <td>Afghanistan</td>\n",
              "      <td>38928346.0</td>\n",
              "      <td>652860.0</td>\n",
              "      <td>60.0</td>\n",
              "    </tr>\n",
              "    <tr>\n",
              "      <th>1</th>\n",
              "      <td>549e992a42</td>\n",
              "      <td>Sooo SAD I will miss you here in San Diego!!!</td>\n",
              "      <td>Sooo SAD</td>\n",
              "      <td>negative</td>\n",
              "      <td>noon</td>\n",
              "      <td>21-30</td>\n",
              "      <td>Albania</td>\n",
              "      <td>2877797.0</td>\n",
              "      <td>27400.0</td>\n",
              "      <td>105.0</td>\n",
              "    </tr>\n",
              "    <tr>\n",
              "      <th>2</th>\n",
              "      <td>088c60f138</td>\n",
              "      <td>my boss is bullying me...</td>\n",
              "      <td>bullying me</td>\n",
              "      <td>negative</td>\n",
              "      <td>night</td>\n",
              "      <td>31-45</td>\n",
              "      <td>Algeria</td>\n",
              "      <td>43851044.0</td>\n",
              "      <td>2381740.0</td>\n",
              "      <td>18.0</td>\n",
              "    </tr>\n",
              "    <tr>\n",
              "      <th>3</th>\n",
              "      <td>9642c003ef</td>\n",
              "      <td>what interview! leave me alone</td>\n",
              "      <td>leave me alone</td>\n",
              "      <td>negative</td>\n",
              "      <td>morning</td>\n",
              "      <td>46-60</td>\n",
              "      <td>Andorra</td>\n",
              "      <td>77265.0</td>\n",
              "      <td>470.0</td>\n",
              "      <td>164.0</td>\n",
              "    </tr>\n",
              "    <tr>\n",
              "      <th>4</th>\n",
              "      <td>358bd9e861</td>\n",
              "      <td>Sons of ****, why couldn`t they put them on t...</td>\n",
              "      <td>Sons of ****,</td>\n",
              "      <td>negative</td>\n",
              "      <td>noon</td>\n",
              "      <td>60-70</td>\n",
              "      <td>Angola</td>\n",
              "      <td>32866272.0</td>\n",
              "      <td>1246700.0</td>\n",
              "      <td>26.0</td>\n",
              "    </tr>\n",
              "    <tr>\n",
              "      <th>...</th>\n",
              "      <td>...</td>\n",
              "      <td>...</td>\n",
              "      <td>...</td>\n",
              "      <td>...</td>\n",
              "      <td>...</td>\n",
              "      <td>...</td>\n",
              "      <td>...</td>\n",
              "      <td>...</td>\n",
              "      <td>...</td>\n",
              "      <td>...</td>\n",
              "    </tr>\n",
              "    <tr>\n",
              "      <th>24827</th>\n",
              "      <td>9f19792407</td>\n",
              "      <td>iigghhtt, just fur geet it. idc. idk. eh blah ...</td>\n",
              "      <td>immboredddd,</td>\n",
              "      <td>negative</td>\n",
              "      <td>night</td>\n",
              "      <td>70-100</td>\n",
              "      <td>Australia</td>\n",
              "      <td>25499884.0</td>\n",
              "      <td>7682300.0</td>\n",
              "      <td>3.0</td>\n",
              "    </tr>\n",
              "    <tr>\n",
              "      <th>24828</th>\n",
              "      <td>e38943d3e1</td>\n",
              "      <td>No, I`m working on it all day Monday. Will tr...</td>\n",
              "      <td>smart</td>\n",
              "      <td>positive</td>\n",
              "      <td>morning</td>\n",
              "      <td>0-20</td>\n",
              "      <td>Austria</td>\n",
              "      <td>9006398.0</td>\n",
              "      <td>82400.0</td>\n",
              "      <td>109.0</td>\n",
              "    </tr>\n",
              "    <tr>\n",
              "      <th>24829</th>\n",
              "      <td>afe95e44cb</td>\n",
              "      <td>Doing make up for the school musical this week...</td>\n",
              "      <td>Doing make up for the school musical this week...</td>\n",
              "      <td>neutral</td>\n",
              "      <td>noon</td>\n",
              "      <td>21-30</td>\n",
              "      <td>Azerbaijan</td>\n",
              "      <td>10139177.0</td>\n",
              "      <td>82658.0</td>\n",
              "      <td>123.0</td>\n",
              "    </tr>\n",
              "    <tr>\n",
              "      <th>24830</th>\n",
              "      <td>1904c634f0</td>\n",
              "      <td>Yes,it`s beautiful and i`m fortunate to live ...</td>\n",
              "      <td>beautiful</td>\n",
              "      <td>positive</td>\n",
              "      <td>night</td>\n",
              "      <td>31-45</td>\n",
              "      <td>Bahamas</td>\n",
              "      <td>393244.0</td>\n",
              "      <td>10010.0</td>\n",
              "      <td>39.0</td>\n",
              "    </tr>\n",
              "    <tr>\n",
              "      <th>24831</th>\n",
              "      <td>f70185f2a9</td>\n",
              "      <td>I`m my mom`s company picnic at a Lake Elsinore...</td>\n",
              "      <td>None</td>\n",
              "      <td>None</td>\n",
              "      <td>None</td>\n",
              "      <td>None</td>\n",
              "      <td>None</td>\n",
              "      <td>NaN</td>\n",
              "      <td>NaN</td>\n",
              "      <td>NaN</td>\n",
              "    </tr>\n",
              "  </tbody>\n",
              "</table>\n",
              "<p>24832 rows × 10 columns</p>\n",
              "</div>\n",
              "      <button class=\"colab-df-convert\" onclick=\"convertToInteractive('df-4c81e3fa-5ca1-4672-bc38-e754fdf08b52')\"\n",
              "              title=\"Convert this dataframe to an interactive table.\"\n",
              "              style=\"display:none;\">\n",
              "        \n",
              "  <svg xmlns=\"http://www.w3.org/2000/svg\" height=\"24px\"viewBox=\"0 0 24 24\"\n",
              "       width=\"24px\">\n",
              "    <path d=\"M0 0h24v24H0V0z\" fill=\"none\"/>\n",
              "    <path d=\"M18.56 5.44l.94 2.06.94-2.06 2.06-.94-2.06-.94-.94-2.06-.94 2.06-2.06.94zm-11 1L8.5 8.5l.94-2.06 2.06-.94-2.06-.94L8.5 2.5l-.94 2.06-2.06.94zm10 10l.94 2.06.94-2.06 2.06-.94-2.06-.94-.94-2.06-.94 2.06-2.06.94z\"/><path d=\"M17.41 7.96l-1.37-1.37c-.4-.4-.92-.59-1.43-.59-.52 0-1.04.2-1.43.59L10.3 9.45l-7.72 7.72c-.78.78-.78 2.05 0 2.83L4 21.41c.39.39.9.59 1.41.59.51 0 1.02-.2 1.41-.59l7.78-7.78 2.81-2.81c.8-.78.8-2.07 0-2.86zM5.41 20L4 18.59l7.72-7.72 1.47 1.35L5.41 20z\"/>\n",
              "  </svg>\n",
              "      </button>\n",
              "      \n",
              "  <style>\n",
              "    .colab-df-container {\n",
              "      display:flex;\n",
              "      flex-wrap:wrap;\n",
              "      gap: 12px;\n",
              "    }\n",
              "\n",
              "    .colab-df-convert {\n",
              "      background-color: #E8F0FE;\n",
              "      border: none;\n",
              "      border-radius: 50%;\n",
              "      cursor: pointer;\n",
              "      display: none;\n",
              "      fill: #1967D2;\n",
              "      height: 32px;\n",
              "      padding: 0 0 0 0;\n",
              "      width: 32px;\n",
              "    }\n",
              "\n",
              "    .colab-df-convert:hover {\n",
              "      background-color: #E2EBFA;\n",
              "      box-shadow: 0px 1px 2px rgba(60, 64, 67, 0.3), 0px 1px 3px 1px rgba(60, 64, 67, 0.15);\n",
              "      fill: #174EA6;\n",
              "    }\n",
              "\n",
              "    [theme=dark] .colab-df-convert {\n",
              "      background-color: #3B4455;\n",
              "      fill: #D2E3FC;\n",
              "    }\n",
              "\n",
              "    [theme=dark] .colab-df-convert:hover {\n",
              "      background-color: #434B5C;\n",
              "      box-shadow: 0px 1px 3px 1px rgba(0, 0, 0, 0.15);\n",
              "      filter: drop-shadow(0px 1px 2px rgba(0, 0, 0, 0.3));\n",
              "      fill: #FFFFFF;\n",
              "    }\n",
              "  </style>\n",
              "\n",
              "      <script>\n",
              "        const buttonEl =\n",
              "          document.querySelector('#df-4c81e3fa-5ca1-4672-bc38-e754fdf08b52 button.colab-df-convert');\n",
              "        buttonEl.style.display =\n",
              "          google.colab.kernel.accessAllowed ? 'block' : 'none';\n",
              "\n",
              "        async function convertToInteractive(key) {\n",
              "          const element = document.querySelector('#df-4c81e3fa-5ca1-4672-bc38-e754fdf08b52');\n",
              "          const dataTable =\n",
              "            await google.colab.kernel.invokeFunction('convertToInteractive',\n",
              "                                                     [key], {});\n",
              "          if (!dataTable) return;\n",
              "\n",
              "          const docLinkHtml = 'Like what you see? Visit the ' +\n",
              "            '<a target=\"_blank\" href=https://colab.research.google.com/notebooks/data_table.ipynb>data table notebook</a>'\n",
              "            + ' to learn more about interactive tables.';\n",
              "          element.innerHTML = '';\n",
              "          dataTable['output_type'] = 'display_data';\n",
              "          await google.colab.output.renderOutput(dataTable, element);\n",
              "          const docLink = document.createElement('div');\n",
              "          docLink.innerHTML = docLinkHtml;\n",
              "          element.appendChild(docLink);\n",
              "        }\n",
              "      </script>\n",
              "    </div>\n",
              "  </div>\n",
              "  "
            ]
          },
          "metadata": {},
          "execution_count": 5
        }
      ],
      "source": [
        "import pandas as pd\n",
        "df=pd.read_csv('/content/train.csv',engine='python',encoding='ISO-8859-1')\n",
        "df"
      ]
    },
    {
      "cell_type": "code",
      "source": [
        "df.info()"
      ],
      "metadata": {
        "colab": {
          "base_uri": "https://localhost:8080/"
        },
        "id": "oWKzoON4oVUm",
        "outputId": "420c1d03-26b8-4723-c87c-968d9b067a41"
      },
      "execution_count": null,
      "outputs": [
        {
          "output_type": "stream",
          "name": "stdout",
          "text": [
            "<class 'pandas.core.frame.DataFrame'>\n",
            "RangeIndex: 24832 entries, 0 to 24831\n",
            "Data columns (total 10 columns):\n",
            " #   Column            Non-Null Count  Dtype  \n",
            "---  ------            --------------  -----  \n",
            " 0   textID            24832 non-null  object \n",
            " 1   text              24831 non-null  object \n",
            " 2   selected_text     24830 non-null  object \n",
            " 3   sentiment         24831 non-null  object \n",
            " 4   Time of Tweet     24831 non-null  object \n",
            " 5   Age of User       24831 non-null  object \n",
            " 6   Country           24831 non-null  object \n",
            " 7   Population -2020  24831 non-null  float64\n",
            " 8   Land Area (Km²)   24831 non-null  float64\n",
            " 9   Density (P/Km²)   24831 non-null  float64\n",
            "dtypes: float64(3), object(7)\n",
            "memory usage: 1.9+ MB\n"
          ]
        }
      ]
    },
    {
      "cell_type": "code",
      "source": [
        "df['sentiment'].value_counts()"
      ],
      "metadata": {
        "colab": {
          "base_uri": "https://localhost:8080/"
        },
        "id": "-xCJ_FQgodSI",
        "outputId": "eddbff5a-3ff1-4ec4-9978-8f88caf37fbb"
      },
      "execution_count": null,
      "outputs": [
        {
          "output_type": "execute_result",
          "data": {
            "text/plain": [
              "neutral     9986\n",
              "positive    7829\n",
              "negative    7016\n",
              "Name: sentiment, dtype: int64"
            ]
          },
          "metadata": {},
          "execution_count": 7
        }
      ]
    },
    {
      "cell_type": "code",
      "source": [
        "df['sentiment'].value_counts().plot(kind = 'bar')"
      ],
      "metadata": {
        "colab": {
          "base_uri": "https://localhost:8080/",
          "height": 317
        },
        "id": "YrreUMfRoeIp",
        "outputId": "1b409a39-feed-48a7-c52d-5e4ef7eab13b"
      },
      "execution_count": null,
      "outputs": [
        {
          "output_type": "execute_result",
          "data": {
            "text/plain": [
              "<matplotlib.axes._subplots.AxesSubplot at 0x7f45dffe3210>"
            ]
          },
          "metadata": {},
          "execution_count": 8
        },
        {
          "output_type": "display_data",
          "data": {
            "text/plain": [
              "<Figure size 432x288 with 1 Axes>"
            ],
            "image/png": "[encoded data removed]"
          },
          "metadata": {
            "needs_background": "light"
          }
        }
      ]
    },
    {
      "cell_type": "code",
      "source": [
        ""
      ],
      "metadata": {
        "id": "kc3a8w8q7K2Z"
      },
      "execution_count": null,
      "outputs": []
    },
    {
      "cell_type": "code",
      "source": [
        "x = df.iloc[0:300,1].values\n",
        "x"
      ],
      "metadata": {
        "colab": {
          "base_uri": "https://localhost:8080/"
        },
        "id": "J2E7wbLQomCo",
        "outputId": "d50e36c8-d83b-4f8f-d6e5-7e9d5f679b03"
      },
      "execution_count": null,
      "outputs": [
        {
          "output_type": "execute_result",
          "data": {
            "text/plain": [
              "array([' I`d have responded, if I were going',\n",
              "       ' Sooo SAD I will miss you here in San Diego!!!',\n",
              "       'my boss is bullying me...', ' what interview! leave me alone',\n",
              "       ' Sons of ****, why couldn`t they put them on the releases we already bought',\n",
              "       'http://www.dothebouncy.com/smf - some shameless plugging for the best Rangers forum on earth',\n",
              "       '2am feedings for the baby are fun when he is all smiles and coos',\n",
              "       'Soooo high', ' Both of you',\n",
              "       ' Journey!? Wow... u just became cooler.  hehe... (is that possible!?)',\n",
              "       ' as much as i love to be hopeful, i reckon the chances are minimal =P i`m never gonna get my cake and stuff',\n",
              "       'I really really like the song Love Story by Taylor Swift',\n",
              "       'My Sharpie is running DANGERously low on ink',\n",
              "       'i want to go to music tonight but i lost my voice.',\n",
              "       'test test from the LG enV2', 'Uh oh, I am sunburned',\n",
              "       ' S`ok, trying to plot alternatives as we speak *sigh*',\n",
              "       'i`ve been sick for the past few days  and thus, my hair looks wierd.  if i didnt have a hat on it would look... http://tinyurl.com/mnf4kw',\n",
              "       'is back home now      gonna miss every one',\n",
              "       'Hes just not that into you',\n",
              "       ' oh Marly, I`m so sorry!!  I hope you find her soon!! <3 <3',\n",
              "       'Playing Ghost Online is really interesting. The new updates are Kirin pet and Metamorph for third job.  Can`t wait to have a dragon pet',\n",
              "       'is cleaning the house for her family who is comming later today..',\n",
              "       'gotta restart my computer .. I thought Win7 was supposed to put an end to the constant rebootiness',\n",
              "       'SEe waT I Mean bOuT FoLL0w fRiiDaYs... It`S cALLed LoSe f0LloWeRs FridAy... smH',\n",
              "       'the free fillin` app on my ipod is fun, im addicted',\n",
              "       '  I`m sorry.',\n",
              "       'On the way to Malaysia...no internet access to Twit',\n",
              "       'juss came backk from Berkeleyy ; omg its madd fun out there  havent been out there in a minute . whassqoodd ?',\n",
              "       'Went to sleep and there is a power cut in Noida  Power back up not working too',\n",
              "       'I`m going home now. Have you seen my new twitter design? Quite....heavenly isn`****?',\n",
              "       'i hope unni will make the audition . fighting dahye unni !',\n",
              "       ' If it is any consolation I got my BMI tested hahaha it says I am obesed  well so much for being unhappy for about 10 minutes.',\n",
              "       ' That`s very funny.  Cute kids.',\n",
              "       ' Ahhh, I slept through the game.  I`m gonna try my best to watch tomorrow though. I hope we play Army.',\n",
              "       'Thats it, its the end. Tears for Fears vs Eric Prydz, DJ Hero   http://bit.ly/2Hpbg4',\n",
              "       'Born and raised in NYC and living in Texas for the past 10 years!  I still miss NY',\n",
              "       'just in case you wonder, we are really busy today and this coming with with adding tons of new blogs and updates stay tuned',\n",
              "       'i`m soooooo sleeeeepy!!! the last day o` school was today....sniffle....',\n",
              "       'A little happy for the wine jeje ok it`sm my free time so who cares, jaja i love this day',\n",
              "       ' Car not happy, big big dent in boot! Hoping theyre not going to write it off, crossing fingers and waiting',\n",
              "       'im an avid fan of **** magazine and i love your magazines',\n",
              "       'MAYDAY?!',\n",
              "       'RATT ROCKED NASHVILLE TONITE..ONE THING SUCKED, NO ENCORE!  LIKE IN THE 80`S THEY STILL HAVE A FUN SHOW. PEARCY HAS THAT HOTT BAD BOY LOOK',\n",
              "       ' I love to! But I`m only available from 5pm.  and where dear? Would love to help  convert her vids.Ã¯Â¿Â½',\n",
              "       \"The girl in the hair salon asked me 'Shall I trim your eyebrows!' How old do I feel?\",\n",
              "       'egh blah and boooooooooooo i dunno wanna go to work  HANGOVERS SUCKKKKKK Im a drunk mess!',\n",
              "       ':visiting my friendster and facebook',\n",
              "       'i donbt like to peel prawns, i also dont like going shopping, running out of money and crawling round the car looking for more',\n",
              "       ' which case? I got a new one last week and I`m not thrilled at all with mine.',\n",
              "       ' Then you should check out http://twittersucks.com and connect with other tweeple who hate twitter',\n",
              "       ' also bored at school, its my third freelesson( freistunde )',\n",
              "       ' hm... Both of us I guess...',\n",
              "       ' it is ****...u have dissappointed me that past few days',\n",
              "       ' romance zero is funny',\n",
              "       ' I`d rather do the early run..but I am a morning runner',\n",
              "       'Bah a coworker ran into work late and her bag smacked into my knee  it really hurts now',\n",
              "       'will be back later.  http://plurk.com/p/rp3k7',\n",
              "       'Aw. Torn ace of hearts  #Hunchback',\n",
              "       ' what fun are you speaking of?',\n",
              "       'i lost all my friends, i`m alone and sleepy..i wanna go home',\n",
              "       ' haha yes', 'I give in to easily',\n",
              "       'What better way to spoil mum than to let her kick back and relax over a nice meal and a bottle of her favorite wine? Our wine was a red',\n",
              "       'mannnn..... _ got an iphone!!! im jealous....  http://bit.ly/NgnaR',\n",
              "       'Is at a photoshoot.',\n",
              "       '  He`s awesome... Have you worked with him before? He`s a good friend.',\n",
              "       'Yay playing a show tonight! Boo it`s gonna soggy and I`m at work right before playing',\n",
              "       'Chilliin', ' If you know such agent, do let me know',\n",
              "       'I still smell of smoke  #kitchenfire',\n",
              "       ' a celtics-lakers rematch sounds better don`t you think? lol',\n",
              "       'Anyone have an extra Keane ticket? I promise to buy you a drink and take rad pics for your FB / Blog / Flickr., etc',\n",
              "       \"'you can ride one, you can catch one, but its not summer til you pop open one'  ?\",\n",
              "       ' she is good! so gor-juz yea i kno i asked her yesterday when we were at tha hospital if she talked to u and she said no',\n",
              "       'OK - I`m out of here for now. Just popped in to say Hi and check on things. I`ll probably head to the guttah later on tonight',\n",
              "       'WOW, i AM REALLY MiSSiN THE FAM(iLY) TODAY. BADDD.',\n",
              "       ' My sources say no', 'I am sooo tired',\n",
              "       ' Hey, you change your twitter account, and you didn`t even tell me...',\n",
              "       ' THANK YYYYYYYYYOOOOOOOOOOUUUUU!',\n",
              "       ' lucky kid...i so wanna see loserville  pity im in oz....',\n",
              "       'fell asleep waiting for my ride!', 'Sick. With a flu like thing.',\n",
              "       'Still no reply from  about my SimFinger problem  So no iRape parody video until I get a response, sorry guys',\n",
              "       'Happy Star Wars day everyone! and Enjoy the holiday (UK)',\n",
              "       ' Miles from you   I`m in Essex so give me plenty of warning so I can arrive in time to get at least one of those free beers.',\n",
              "       'His snoring is so annoying n it keeps me from sleeping (like right now, lol) but I honestly wud miss it if it eva left  I love him.',\n",
              "       'i miss you bby      wish you were going tomorrow to make me do good.',\n",
              "       ' Well what im working on isn`t QUITE ready to post about publicly (still beta testing) but its a cool new script I coded',\n",
              "       ' SWEEEEET - San Fran is awesome!!!!  Love it there',\n",
              "       '_Mounce yes and it lasts way past my bedtime!',\n",
              "       ' Hi  how are you doing ???  *just joined twitter...*',\n",
              "       'waiting for sleeping pills to kick in... gonna be so tired at work tomorrow',\n",
              "       'eating ice cream and then getting ready for graduation.',\n",
              "       'Happy Mothers day to all you Mums out there',\n",
              "       ' CASEY`S GONE?!?! BUT WHY?! So, she piddled a little on the carpet. She`s prolly freaked cause it`s new. Can we get her back?',\n",
              "       ' hemp cloth is marvelous but unfortunately no',\n",
              "       'Gonna read a story bout adam lambert online then bed. Nighty night',\n",
              "       ' We saw that in none 3D - the baddie`s the best',\n",
              "       '4am. And Im on the beach. Pretty',\n",
              "       ' Certainly not Cheers than, huh?',\n",
              "       \"1 week post my'horrible, traumatic jumping cholla accident.'-cholla`s next dirty trick:pieces are starting to emerge from my hand! Ouch!\",\n",
              "       'i realy wanted to go out cause its so nice but everybodys busy',\n",
              "       \" Awesome.  I`m down in Ocean Beach (if you know where that is.) By the way. 'YourBiggestFan' I`m a re-al big fan of you-rs.\",\n",
              "       'at least I get to watch over time  Let`s go Pens!!',\n",
              "       ' cool i wear black most of the time when i go out',\n",
              "       ' haha I do not know how to work blip apart from the obvious! thanks for reblipping my song  have a nice day ****',\n",
              "       ' have a safe trip joshy poo.......you`ll knock them dead at your speech',\n",
              "       ' woof, I wish I was allowed to go',\n",
              "       'if u have a friendster add me!!!!!!!!!        my email adress      add me  loco_crime_1st.com        add me leave some comment',\n",
              "       '  has tickets.......?',\n",
              "       'Thank you, Afrin Nasal Spray! Also, I got a giant teacup tonight!',\n",
              "       ' ACSM. it`s unfathomable.  i think the other one .. and the .. is one that should be kept to the comfort of our bedrooms. yes?',\n",
              "       'Aww, I love my daddy! He works 7 days a week almost all day and still tries to go to SF with all of us',\n",
              "       'So many tests todayyy  I don`t feel confident about anyy.',\n",
              "       'graduation is done  im a little sad.. anyone want to hang out???',\n",
              "       ' hahaa your awesomee !',\n",
              "       'holy smokes! star trek was freaking awesomeeeee',\n",
              "       'I hate Fallout 3 it keeps making me jump, I`m also low on health, money, ammo and food  don`t worry I`ll get through it.',\n",
              "       ' I had it! On my itunes, but then I lost all my songs.',\n",
              "       'What`s with the gloomy weather? The sun must be too tired to come out and play  heading to victoria gardens for some impulse buys haha',\n",
              "       'Not looking forward to next week: Maths, Geography, English and French exams, totalling 7 hours',\n",
              "       ' Poor you  Get outside and sleep in the garden, the sun will do you good. But don`t forget suncream!!!',\n",
              "       'not well', ' Not a prob hun',\n",
              "       'at dads, watching some mtv and am going on sims2 in a minutee',\n",
              "       ' Absolutely', ' what`s the matter chickadee?',\n",
              "       ' hey mia!  totally adore your music.  when will your cd be out?',\n",
              "       'Shopping. Cleaning. BMFing. Webcam chatting with nephews. Nothing spesh, but a good bank holiday Monday nonetheless',\n",
              "       ' =O you need to ask him something? Lmao I love him too',\n",
              "       ' those splinters look very painful...but you were being very heroic saving mr. Pickle',\n",
              "       ' why are you sad?',\n",
              "       ' Nice to see you tweeting!  It`s Sunday 10th May and we`re celebrating Mother`s Day here today. So be nice to yer Mom',\n",
              "       'decided 2 trans frm relaxed 2 natural hair but i wish my whole head looked like my roots.  Age of the instant gratification....',\n",
              "       ' Namaskar & Namaste r both the same. Marathi people say Namaskar! its a marathi word.... should i ? ...naaaah !',\n",
              "       ' Congrats!  I cuss like that in a matter of minutes, But didn`t know until now there is a reward for it.',\n",
              "       'Humous and Dorito`s.... Oh yes',\n",
              "       'missed all the awesome weather, because she was in a movie!',\n",
              "       'Today is going to be a normal day for I hope. We had a group of pilots from a large airline come in last night so it was too much drink',\n",
              "       'These kids are terrible! If I was in Good Evans, I`d call Childline',\n",
              "       'Unfortunatley, AerLingus no longer fly to Copenhagen so we`re have to fly Ryanair to Billund and drive up to Copenhagen one of the days!',\n",
              "       ' What`s sad is that I actually had to google that term. That sucks, tho.',\n",
              "       'Hate fighting',\n",
              "       ' I watched that too!!! I didnt want her to win, but she put up a good fight..lol',\n",
              "       'Car-warmed Sprite tastes like sore throat',\n",
              "       'Just came 11th in cross country and beat dumbo',\n",
              "       'Candle wax is very enjoyable.',\n",
              "       ' She`s unassuming and unpretentious. She`s just, as. I suppose that`s why she`s so endearing--because we can relate to her',\n",
              "       'tomorrow valeria`s lunch!!! going to get my hair done but im arraving late   got my cousins babtizm or whatever you spell it',\n",
              "       'goooooddd morning tweets!!  week three OF my workout. did i mention i got my new glasses yesterday?!?',\n",
              "       ' me too. I hate my computer so much..',\n",
              "       ' fine! Going to do my big walk today 20 or so miles',\n",
              "       'I WANT RED CRUISERS!!  i don`t like the other ones. LMFAO!',\n",
              "       'Mmmmmmmm... ? it in the morning', ' me neither',\n",
              "       'Has about 10 hours work to do, on a Sunday. Boo. I will find time for a two hour lunchbreak though. Yeah',\n",
              "       'Bugger. forgot I still have washing in my machine',\n",
              "       '_Laurie sending love, blessings & healing thoughts to you & family  peace',\n",
              "       'My back hurts...really bad', ' ah yes, I know that feeling',\n",
              "       'Night of the cookers with my dad',\n",
              "       'My modem has been offline for a week now... God bless the 3g network. Tim just left... Again!! May schedule has been brutal',\n",
              "       ' Nope I am in Coquitlam',\n",
              "       ' Had parent teacher thing yesterday!! So boring going to skl on saturday!!  lol',\n",
              "       '  #lichfield #tweetup sounds like fun  Hope to see you and everyone else there!',\n",
              "       'Big booming thunder storm almost here.  Maybe we can all go home early???  Ah... probably not.',\n",
              "       'Few Bevvies 2day in twn..great on a day off!!',\n",
              "       'first night in myers. just not the same w/out lydia!  but i`m actually excited about this summer!',\n",
              "       ' good morning', ' its the best show EVER!',\n",
              "       'URL in previous post (to timer job) should be http://bit.ly/a4Fdb. I`d removed space which messed up URL.  ^ES',\n",
              "       'i think iv hurt my tooth  and eilish and cassie are having a drawing competiton to draw cookies and pineapples haha :L .',\n",
              "       ' I want to know when the auditions are Mander! Text or...reply please!',\n",
              "       'or even NOOOOO NOT THE SECRET NAMEREBECCA PLEASE',\n",
              "       ' I miss my neice  can`t wait to see her bad n grown ****! Lol',\n",
              "       'i need to get my computer fixed',\n",
              "       'really hopes her car`s illness is not terminal...',\n",
              "       'All the cool people I want to find for following today are #English, and I guess the English don`t tweet.',\n",
              "       ' no sir...i woulda put honey...but i don`t have any',\n",
              "       'who watched X-men origins: wolverine? i totally loved it! haha',\n",
              "       ' I VOTED!!! do u have a personal myspace? i keep talking to fakes   i <3 you. u helped me thru the hrdest time of my life! (: x',\n",
              "       ' I`m sad that I missed you guys last night!',\n",
              "       'Finally got a call for marriage counseling 3 days late....',\n",
              "       ' ok then', '_420 why baby?',\n",
              "       'today was the last day of high school for me and i ended up going home sick! ... stupid dead rats',\n",
              "       'We`re having an impromptu pool party... Except I don`t know how to swim so I can`t get in',\n",
              "       'lost my tooth 2day whilst i was eating gum...oww',\n",
              "       'happy 1 year! <3',\n",
              "       'Oh, I HELLA forgot to say my official good morning  Like to hear it? Here it go! Goooooooooooood Morrrrrrrrning Twitterville! Lol',\n",
              "       ' *phew*  Will make a note in case anyone else runs into the same issueÃ¯Â¿Â½',\n",
              "       '  WHAT ABOUT ME ??  I VOTE EVERY DAY FOR YOU !!!!!',\n",
              "       'I`m starving!! This diet is killing me but I can`t eat after 8pm',\n",
              "       ' i talk to you',\n",
              "       'im soo bored...im deffo missing my music channels',\n",
              "       ' nite nite bday girl  have fun at concert',\n",
              "       'Had nicotine replacement patch on for 4 hours. So far, so good, but I did sleep for most of those 4 hours. Getting a bit twitchy now',\n",
              "       '_Sanderson What`s with Twatter lately?  Either I can`t get on or the replies don`t turn up!',\n",
              "       'should be sleeping.  lost my voice a couple day ago.',\n",
              "       'http://twitpic.com/66xlm -  hate when my PARKED car gets hit',\n",
              "       ' I`ve heard this fall. I`m waiting too!',\n",
              "       ' more nightmares?  *huggles*',\n",
              "       'I AM SUCH A CREEPER  I feel disappointed because of it. **** my cyberstalking skills   the internet = no more privacy.',\n",
              "       'going to bed its late and I have headache',\n",
              "       'happy mother`s day to all moms out there...',\n",
              "       'Grabbing coffee from  then making mom breakfast',\n",
              "       'im thinking that im going to have fun tonight....and maybe some changes are coming',\n",
              "       ' thanks. before the major chop.',\n",
              "       ' Haha I know, I cant handle the fame!  and thank you!',\n",
              "       'just got up and updated my ipod',\n",
              "       ' yes! sober HAHAHA tanghaling tapat dude! haha WILD. i don`t knowwww  plan plan  before you go to US!',\n",
              "       ' We never miss ICarly - my son has a huge crush on Miranda',\n",
              "       'Saw James carville in the store today. His head is really that bald',\n",
              "       'yellow for   ? http://blip.fm/~5z05g',\n",
              "       ' which means you`re just going to have to come back to vancouver and have it our way! hahah',\n",
              "       'Feeling smooth like chrome', 'Ew traffic',\n",
              "       'downloading songs while trying to sneak a lil homework in too, which should be my main priority not songs lol',\n",
              "       '@_Ra_Ra_ your not alone...i need coffee too.', ' Sounds like me',\n",
              "       'Bad day  The day you realize what mess you`ve put me through will be one of the happiest days of my life...',\n",
              "       'Walking to class. I hate not having a bike....especially mine.',\n",
              "       '_nesmith',\n",
              "       'failed inspection. Did you know you can pass wo/oven, but not wo/anti-tip bracket, which is only sold w/oven? This is worse than taxes.',\n",
              "       'JONAS BROTHERS - Live to party.                It`s rocking so hard     I love the song,',\n",
              "       'happy mother`s day to all the mothers in the world.',\n",
              "       '35mins through the 1hr 20mins Google Wave demo, that looks a lot of fun, would love to test it though.  http://bit.ly/WnMSc',\n",
              "       'Sleepy Tabz is heading to bed.  Fun night! Listened through the next episode of Joss`d!',\n",
              "       'The exception for a short dude: Larenz fineass Tate yum',\n",
              "       'Screw the reviews, I thought Wolverine was awesome. But not enough Dominic Monaghan for my liking.',\n",
              "       'If you followed us recently, PLEASE dont be offended that we haven`t followed back. We hit our limit.   Hopefully we will be free soon.',\n",
              "       ' Yes i work 6 to 3...',\n",
              "       ' Hmmm, maybe that`s what they meant. They eluded to something brand new but you know how the media is',\n",
              "       'Done at the spa   now meeting vic for some late lunch!',\n",
              "       'Happy monday  up and about going to tavares today. Hope everyone has a blessed day!',\n",
              "       ' Always have wanted to go to Oz', ' Thx',\n",
              "       ' http://twitpic.com/4jaz5 - Cool... luv it',\n",
              "       '  that`s why I need to be there...To represent the Blackberries',\n",
              "       'Okay so I`m dedicating my 300th tweet to the fact that I`m going to the Apple store because there is a HUGE crack on the glass screen!',\n",
              "       ' If only we could ever actually be allowed to stay here and do that',\n",
              "       ' Let me know how that turns out!!',\n",
              "       ' was that sass I detect?  As long as it isn`t back sass! Haha',\n",
              "       ' yeah I was thinking about that ,ahaha',\n",
              "       ' Sports Bar Shatranjanpoli Rest Ph 26498457 All Sports Bar Andheri W 26733333 Dont know whether that helps. Google ki jai ho',\n",
              "       'I`m not sleeping at all until  accepts my appology',\n",
              "       'Wolverine Was BOSS! Seriously, And Will.I.Am Was In It, What The **** ??',\n",
              "       ' I live for pain, bring it on',\n",
              "       'okay, i`m out for a while  back later!',\n",
              "       '  #powerblog What is this powerblog challenge you keep talking about?  I`m a newbie follower',\n",
              "       'almost died. Laptop screen was set to 100% brightness after I reinstalled Windows Vista. Got a headache now  #insanedefaults',\n",
              "       'Waiting for tish to get off. Got to drive my moms CRV to pick her up all my myself and duckie. First time',\n",
              "       'Trying to decide on a movie with the friends.. not going to well! lol :p  No bible study 2nite, which means ****-day cake  buy my own??',\n",
              "       'going to shower because i don`t want to smell at school tomorrow',\n",
              "       ' Sigh... you know I am...',\n",
              "       'discovered cause of a bug in the new #NetPLAYER 4 build. Publishing bug fix now, hopefully new beta by tomorrow',\n",
              "       'Here are 4 FREE twitter tools will get you followers  http://short.to/511q http://jijr.com/hulz http://short.to/511r http://2ve.org/xPG0/',\n",
              "       'just got home from work.... and is chugging down a big bottle of apple juice.',\n",
              "       ' Yes it does. Please dont` go. If you die I will cry.. which normally leads to small animals getting harmed',\n",
              "       'writing report cards  soooo tired but what an amazing day. check it out on fb soon!',\n",
              "       ' it was only once for my big brother...and I`m done now',\n",
              "       'good news: finally finished my #EASactive workout that has been paused for 6 hours. bad news: my resistance band is torn',\n",
              "       'Well good morning all, What a wonderful day in the neighborhood  Thanks for all those that are now following another 60 this morning',\n",
              "       'FTSK and Mercy Mercedes were amazing tonight.. as always',\n",
              "       '  hope he is ok!',\n",
              "       'can`t school just be done already? it hurts too much... seeing him every day',\n",
              "       \"I waited, listening to wind blowing through the tumbleweed? Are none of you old enough to know what to do when someone says 'Crackerack'?\",\n",
              "       ' Hell Yeah!',\n",
              "       ' HIM shirt at dinner? Do you need to ask??  Does it actually have Ville on it?',\n",
              "       ' i know!!',\n",
              "       ' huh what the ****? Smelly? Noooo. I love alex Vixon',\n",
              "       'Went to a party last night. Dindin and I showed up in matching outfits ) GREAT MINDS THINK ALIKE ) Anyway, happy birthday, ate lara',\n",
              "       ' Happy b-day! Just woke up on this side of Earth, so wishes are bit late',\n",
              "       'thank you for teaching me values and to be a better person each day  I LOVE SO MUCH, YOU`RE THE BEST MUM IN THE WORLD',\n",
              "       'HAPPY MOTHERS DAY.!',\n",
              "       ' *laughs* I`m glad that you have self confidence - it`s a wonderful trait to have  I`ll applaud extra loud for it, okay?',\n",
              "       '  Thanks', 'twittering after 2 days!',\n",
              "       'Getting ready for week  Its too nice today to be stuck inside working!',\n",
              "       'I am tres depressed',\n",
              "       'Felt like ****, behaved like my son; ate to compensate. Pigged out on home-roasted sugar almonds. Painful tum, threw up, still feel sick.',\n",
              "       'Happy Mothers Day people. i love my mom a lot still',\n",
              "       ' I`m sorry to hear that.',\n",
              "       ' That`s awesome dude, yay for surprise celebrities!  I got to meet him a few years ago, he was soooo friendly.',\n",
              "       ' it makes me happy to hear a girl talk, or tweet, about the nba. but... could you give my nuggets some love?!',\n",
              "       'Is getting the hang of Twitter.',\n",
              "       'You know your neck is jacked up when you are forced to pay for parking bc you can`t turn you head to parallel park in the free spaces...',\n",
              "       'I want it BACK NOW!: http://bit.ly/PP1WZ',\n",
              "       'Going to miss my roomie ... We will no longer be roomies starting tomorrow',\n",
              "       'bathing with two little angels, Keyla and Janice.',\n",
              "       ' Yep, finished, chocked full of spelling and grammatical errors, but I`m cleaning it up tomorrow and popping it up  hehe',\n",
              "       ' HAHAHHA lol true that! i always remember my BD but i can never remember what date or even day it is',\n",
              "       'Family is here,hanging with them',\n",
              "       'Watching Ellen Love her!! then doing the dishes  and tanning ...it`s gorgeous out!',\n",
              "       ' what`s goin on hun?  I`m worried about you',\n",
              "       ' Im not bannished... but I am at work till 6',\n",
              "       ' Morning! If I get to see it, I`ll let you know. Right now, I`m going to go see Wolverine.',\n",
              "       ' red top tabloids, build em up, knock em down'], dtype=object)"
            ]
          },
          "metadata": {},
          "execution_count": 9
        }
      ]
    },
    {
      "cell_type": "code",
      "source": [
        "y = df.iloc[0:300,3].values\n",
        "y"
      ],
      "metadata": {
        "colab": {
          "base_uri": "https://localhost:8080/"
        },
        "id": "4sLf0-kDosul",
        "outputId": "c6cffdac-28de-4fc5-f969-296d0bb794dc"
      },
      "execution_count": null,
      "outputs": [
        {
          "output_type": "execute_result",
          "data": {
            "text/plain": [
              "array(['neutral', 'negative', 'negative', 'negative', 'negative',\n",
              "       'neutral', 'positive', 'neutral', 'neutral', 'positive', 'neutral',\n",
              "       'positive', 'negative', 'negative', 'neutral', 'negative',\n",
              "       'negative', 'negative', 'negative', 'neutral', 'neutral',\n",
              "       'positive', 'neutral', 'neutral', 'neutral', 'positive',\n",
              "       'negative', 'negative', 'positive', 'negative', 'positive',\n",
              "       'positive', 'negative', 'positive', 'neutral', 'neutral',\n",
              "       'negative', 'neutral', 'negative', 'positive', 'neutral',\n",
              "       'positive', 'neutral', 'neutral', 'positive', 'neutral',\n",
              "       'negative', 'neutral', 'negative', 'negative', 'neutral',\n",
              "       'neutral', 'neutral', 'negative', 'positive', 'neutral',\n",
              "       'negative', 'neutral', 'negative', 'neutral', 'negative',\n",
              "       'neutral', 'negative', 'positive', 'negative', 'neutral',\n",
              "       'positive', 'neutral', 'positive', 'neutral', 'neutral',\n",
              "       'positive', 'neutral', 'neutral', 'neutral', 'neutral', 'negative',\n",
              "       'neutral', 'negative', 'neutral', 'positive', 'positive',\n",
              "       'neutral', 'negative', 'negative', 'positive', 'neutral',\n",
              "       'neutral', 'negative', 'positive', 'positive', 'neutral',\n",
              "       'neutral', 'negative', 'neutral', 'positive', 'negative',\n",
              "       'negative', 'neutral', 'positive', 'positive', 'neutral',\n",
              "       'negative', 'negative', 'positive', 'neutral', 'neutral',\n",
              "       'positive', 'positive', 'positive', 'neutral', 'neutral',\n",
              "       'positive', 'neutral', 'positive', 'negative', 'negative',\n",
              "       'positive', 'positive', 'neutral', 'neutral', 'neutral',\n",
              "       'negative', 'negative', 'negative', 'positive', 'neutral',\n",
              "       'neutral', 'neutral', 'positive', 'positive', 'positive',\n",
              "       'negative', 'negative', 'positive', 'positive', 'neutral',\n",
              "       'neutral', 'neutral', 'negative', 'neutral', 'negative',\n",
              "       'negative', 'negative', 'negative', 'neutral', 'negative',\n",
              "       'neutral', 'positive', 'positive', 'neutral', 'positive',\n",
              "       'negative', 'positive', 'negative', 'neutral', 'neutral',\n",
              "       'neutral', 'negative', 'positive', 'negative', 'neutral',\n",
              "       'neutral', 'negative', 'neutral', 'negative', 'positive',\n",
              "       'neutral', 'positive', 'positive', 'positive', 'positive',\n",
              "       'negative', 'neutral', 'neutral', 'negative', 'negative',\n",
              "       'neutral', 'negative', 'neutral', 'neutral', 'positive',\n",
              "       'positive', 'negative', 'neutral', 'neutral', 'neutral',\n",
              "       'negative', 'neutral', 'negative', 'positive', 'positive',\n",
              "       'neutral', 'negative', 'negative', 'neutral', 'negative',\n",
              "       'positive', 'neutral', 'neutral', 'negative', 'negative',\n",
              "       'neutral', 'neutral', 'negative', 'negative', 'positive',\n",
              "       'neutral', 'positive', 'neutral', 'positive', 'neutral',\n",
              "       'positive', 'positive', 'neutral', 'neutral', 'neutral',\n",
              "       'positive', 'negative', 'neutral', 'neutral', 'neutral', 'neutral',\n",
              "       'negative', 'neutral', 'negative', 'positive', 'positive',\n",
              "       'positive', 'positive', 'neutral', 'positive', 'positive',\n",
              "       'neutral', 'neutral', 'neutral', 'positive', 'neutral', 'neutral',\n",
              "       'positive', 'positive', 'neutral', 'neutral', 'neutral', 'neutral',\n",
              "       'positive', 'neutral', 'negative', 'negative', 'neutral',\n",
              "       'neutral', 'neutral', 'positive', 'neutral', 'negative', 'neutral',\n",
              "       'neutral', 'positive', 'neutral', 'neutral', 'negative',\n",
              "       'positive', 'neutral', 'neutral', 'positive', 'positive',\n",
              "       'positive', 'positive', 'neutral', 'neutral', 'neutral', 'neutral',\n",
              "       'neutral', 'positive', 'positive', 'positive', 'positive',\n",
              "       'positive', 'positive', 'neutral', 'positive', 'negative',\n",
              "       'negative', 'positive', 'negative', 'positive', 'positive',\n",
              "       'neutral', 'negative', 'neutral', 'negative', 'neutral',\n",
              "       'negative', 'neutral', 'neutral', 'positive', 'negative',\n",
              "       'negative', 'neutral', 'neutral'], dtype=object)"
            ]
          },
          "metadata": {},
          "execution_count": 10
        }
      ]
    },
    {
      "cell_type": "code",
      "source": [
        "#train_test_split\n",
        "from sklearn.model_selection import train_test_split\n",
        "x_train,x_test,y_train,y_test = train_test_split(x,y,random_state = 0) "
      ],
      "metadata": {
        "id": "YXjDBCBfows0"
      },
      "execution_count": null,
      "outputs": []
    },
    {
      "cell_type": "code",
      "source": [
        "#Apply TFIDF Vectorizer\n",
        "from sklearn.feature_extraction.text import TfidfVectorizer\n",
        "vect = TfidfVectorizer()\n",
        "x_train_v = vect.fit_transform(x_train)#for training data it is vect.fit_transform\n",
        "x_test_v = vect.transform(x_test)#for testing data ,it is vect.transform"
      ],
      "metadata": {
        "id": "EWdTLSRvo4Im"
      },
      "execution_count": null,
      "outputs": []
    },
    {
      "cell_type": "code",
      "source": [
        "#Apply CLASSIFIER(SVC)\n",
        "from sklearn.svm import SVC\n",
        "model = SVC()"
      ],
      "metadata": {
        "id": "i4M5FeIIpA_1"
      },
      "execution_count": null,
      "outputs": []
    },
    {
      "cell_type": "code",
      "source": [
        "#fitting the model\n",
        "model.fit(x_train_v,y_train)\n"
      ],
      "metadata": {
        "colab": {
          "base_uri": "https://localhost:8080/"
        },
        "id": "WNQ123aOpD-l",
        "outputId": "85d3660d-55b5-40fe-a871-bc1569343ddf"
      },
      "execution_count": null,
      "outputs": [
        {
          "output_type": "execute_result",
          "data": {
            "text/plain": [
              "SVC()"
            ]
          },
          "metadata": {},
          "execution_count": 14
        }
      ]
    },
    {
      "cell_type": "code",
      "source": [
        "#Predictor variable\n",
        "y_pred = model.predict(x_test_v)\n",
        "y_pred # predicted values"
      ],
      "metadata": {
        "colab": {
          "base_uri": "https://localhost:8080/"
        },
        "id": "VwJolb3kwUDD",
        "outputId": "ad612331-2441-493c-be5d-8da0d2a25dfa"
      },
      "execution_count": null,
      "outputs": [
        {
          "output_type": "execute_result",
          "data": {
            "text/plain": [
              "array(['neutral', 'neutral', 'neutral', 'neutral', 'neutral', 'neutral',\n",
              "       'neutral', 'positive', 'neutral', 'neutral', 'neutral', 'neutral',\n",
              "       'neutral', 'neutral', 'neutral', 'neutral', 'neutral', 'neutral',\n",
              "       'neutral', 'negative', 'positive', 'neutral', 'neutral', 'neutral',\n",
              "       'neutral', 'neutral', 'neutral', 'neutral', 'neutral', 'neutral',\n",
              "       'neutral', 'positive', 'neutral', 'neutral', 'neutral', 'neutral',\n",
              "       'neutral', 'neutral', 'neutral', 'neutral', 'neutral', 'neutral',\n",
              "       'neutral', 'neutral', 'neutral', 'neutral', 'neutral', 'neutral',\n",
              "       'neutral', 'neutral', 'neutral', 'neutral', 'neutral', 'neutral',\n",
              "       'neutral', 'neutral', 'neutral', 'neutral', 'neutral', 'neutral',\n",
              "       'neutral', 'neutral', 'neutral', 'neutral', 'neutral', 'neutral',\n",
              "       'neutral', 'neutral', 'neutral', 'neutral', 'neutral', 'neutral',\n",
              "       'neutral', 'neutral', 'neutral'], dtype=object)"
            ]
          },
          "metadata": {},
          "execution_count": 15
        }
      ]
    },
    {
      "cell_type": "code",
      "source": [
        "y_test # actual values"
      ],
      "metadata": {
        "colab": {
          "base_uri": "https://localhost:8080/"
        },
        "id": "7Fnhownk8k7_",
        "outputId": "4963f284-5baf-4b35-a738-e390cae0cba9"
      },
      "execution_count": null,
      "outputs": [
        {
          "output_type": "execute_result",
          "data": {
            "text/plain": [
              "array(['positive', 'neutral', 'negative', 'neutral', 'positive',\n",
              "       'neutral', 'neutral', 'positive', 'neutral', 'positive',\n",
              "       'negative', 'negative', 'neutral', 'negative', 'neutral',\n",
              "       'neutral', 'neutral', 'positive', 'positive', 'neutral',\n",
              "       'positive', 'negative', 'negative', 'positive', 'neutral',\n",
              "       'negative', 'negative', 'positive', 'neutral', 'positive',\n",
              "       'neutral', 'positive', 'neutral', 'negative', 'neutral', 'neutral',\n",
              "       'negative', 'positive', 'neutral', 'neutral', 'negative',\n",
              "       'positive', 'positive', 'neutral', 'neutral', 'negative',\n",
              "       'positive', 'negative', 'neutral', 'neutral', 'neutral',\n",
              "       'positive', 'neutral', 'neutral', 'neutral', 'neutral', 'positive',\n",
              "       'negative', 'negative', 'positive', 'positive', 'neutral',\n",
              "       'positive', 'neutral', 'positive', 'neutral', 'positive',\n",
              "       'neutral', 'neutral', 'negative', 'neutral', 'positive',\n",
              "       'positive', 'negative', 'negative'], dtype=object)"
            ]
          },
          "metadata": {},
          "execution_count": 16
        }
      ]
    },
    {
      "cell_type": "code",
      "source": [
        "#Checing Accuracy\n",
        "from sklearn.metrics import accuracy_score\n",
        "accuracy_score(y_pred,y_test)*100"
      ],
      "metadata": {
        "colab": {
          "base_uri": "https://localhost:8080/"
        },
        "id": "RlXSLBQA9RsG",
        "outputId": "93a45afd-640d-4ecd-c098-e12d502e48eb"
      },
      "execution_count": null,
      "outputs": [
        {
          "output_type": "execute_result",
          "data": {
            "text/plain": [
              "46.666666666666664"
            ]
          },
          "metadata": {},
          "execution_count": 17
        }
      ]
    },
    {
      "cell_type": "code",
      "source": [
        "#Evaluating a specific text\n",
        "a = df['text'][10]\n",
        "a"
      ],
      "metadata": {
        "colab": {
          "base_uri": "https://localhost:8080/",
          "height": 35
        },
        "id": "R3aep7H99VR1",
        "outputId": "a34375af-c297-4ac9-a555-fce86510f187"
      },
      "execution_count": null,
      "outputs": [
        {
          "output_type": "execute_result",
          "data": {
            "text/plain": [
              "' as much as i love to be hopeful, i reckon the chances are minimal =P i`m never gonna get my cake and stuff'"
            ],
            "application/vnd.google.colaboratory.intrinsic+json": {
              "type": "string"
            }
          },
          "metadata": {},
          "execution_count": 18
        }
      ]
    },
    {
      "cell_type": "code",
      "source": [
        "a = vect.transform([a])\n",
        "model.predict(a)"
      ],
      "metadata": {
        "colab": {
          "base_uri": "https://localhost:8080/"
        },
        "id": "3NhWz9ZQ9aN8",
        "outputId": "5182c58d-7191-4b75-db47-8af8473a3680"
      },
      "execution_count": null,
      "outputs": [
        {
          "output_type": "execute_result",
          "data": {
            "text/plain": [
              "array(['neutral'], dtype=object)"
            ]
          },
          "metadata": {},
          "execution_count": 19
        }
      ]
    },
    {
      "cell_type": "code",
      "source": [
        "c='so much for a day off- I`ve been on my feet, all over the place, all day!'\n",
        "c"
      ],
      "metadata": {
        "colab": {
          "base_uri": "https://localhost:8080/",
          "height": 35
        },
        "id": "tie3JROv9gCI",
        "outputId": "62e5adc6-8543-4dd9-9cd7-2af3a481bed0"
      },
      "execution_count": null,
      "outputs": [
        {
          "output_type": "execute_result",
          "data": {
            "text/plain": [
              "'so much for a day off- I`ve been on my feet, all over the place, all day!'"
            ],
            "application/vnd.google.colaboratory.intrinsic+json": {
              "type": "string"
            }
          },
          "metadata": {},
          "execution_count": 20
        }
      ]
    },
    {
      "cell_type": "code",
      "source": [
        "c = vect.transform([c])\n",
        "model.predict(c)"
      ],
      "metadata": {
        "colab": {
          "base_uri": "https://localhost:8080/"
        },
        "id": "eMdUzzoGAlLA",
        "outputId": "8d5cb3af-5fa8-4f3c-87fb-37b868bfbeff"
      },
      "execution_count": null,
      "outputs": [
        {
          "output_type": "execute_result",
          "data": {
            "text/plain": [
              "array(['positive'], dtype=object)"
            ]
          },
          "metadata": {},
          "execution_count": 21
        }
      ]
    },
    {
      "cell_type": "code",
      "source": [
        "d='2am feedings for the baby are fun when he is all smiles and coos'\n",
        "d = vect.transform([d])\n",
        "model.predict(d)"
      ],
      "metadata": {
        "colab": {
          "base_uri": "https://localhost:8080/"
        },
        "id": "mwLq1SluBERI",
        "outputId": "980a13af-8c69-4c3b-c96d-d1a399616c17"
      },
      "execution_count": null,
      "outputs": [
        {
          "output_type": "execute_result",
          "data": {
            "text/plain": [
              "array(['positive'], dtype=object)"
            ]
          },
          "metadata": {},
          "execution_count": 22
        }
      ]
    },
    {
      "cell_type": "code",
      "source": [
        "n='2am feedings for the baby are fun when he is all smiles and coos'\n",
        "n = vect.transform([n])\n",
        "model.predict(n)"
      ],
      "metadata": {
        "colab": {
          "base_uri": "https://localhost:8080/"
        },
        "id": "WanDHAH1BgXW",
        "outputId": "12016113-dcee-4d05-f47f-a26596e659c3"
      },
      "execution_count": null,
      "outputs": [
        {
          "output_type": "execute_result",
          "data": {
            "text/plain": [
              "array(['positive'], dtype=object)"
            ]
          },
          "metadata": {},
          "execution_count": 23
        }
      ]
    },
    {
      "cell_type": "code",
      "source": [
        "#deploying the dataset , so performing the pipeling"
      ],
      "metadata": {
        "id": "v_LdBJ-XCWdg"
      },
      "execution_count": null,
      "outputs": []
    },
    {
      "cell_type": "code",
      "source": [
        "from sklearn.pipeline import make_pipeline\n",
        "text_model=make_pipeline(TfidfVectorizer(),SVC())\n",
        "text_model.fit(x_train,y_train)"
      ],
      "metadata": {
        "colab": {
          "base_uri": "https://localhost:8080/"
        },
        "id": "3_UdCluf-k24",
        "outputId": "ad05e578-f459-48f1-d66f-51453c0d27e3"
      },
      "execution_count": null,
      "outputs": [
        {
          "output_type": "execute_result",
          "data": {
            "text/plain": [
              "Pipeline(steps=[('tfidfvectorizer', TfidfVectorizer()), ('svc', SVC())])"
            ]
          },
          "metadata": {},
          "execution_count": 25
        }
      ]
    },
    {
      "cell_type": "code",
      "source": [
        "y_pred1 = text_model.predict(x_test)\n",
        "y_pred1"
      ],
      "metadata": {
        "colab": {
          "base_uri": "https://localhost:8080/"
        },
        "id": "xRTiy2dg_D8q",
        "outputId": "e1c17548-0f91-4d8e-d2ca-db3f72d3a599"
      },
      "execution_count": null,
      "outputs": [
        {
          "output_type": "execute_result",
          "data": {
            "text/plain": [
              "array(['neutral', 'neutral', 'neutral', 'neutral', 'neutral', 'neutral',\n",
              "       'neutral', 'positive', 'neutral', 'neutral', 'neutral', 'neutral',\n",
              "       'neutral', 'neutral', 'neutral', 'neutral', 'neutral', 'neutral',\n",
              "       'neutral', 'negative', 'positive', 'neutral', 'neutral', 'neutral',\n",
              "       'neutral', 'neutral', 'neutral', 'neutral', 'neutral', 'neutral',\n",
              "       'neutral', 'positive', 'neutral', 'neutral', 'neutral', 'neutral',\n",
              "       'neutral', 'neutral', 'neutral', 'neutral', 'neutral', 'neutral',\n",
              "       'neutral', 'neutral', 'neutral', 'neutral', 'neutral', 'neutral',\n",
              "       'neutral', 'neutral', 'neutral', 'neutral', 'neutral', 'neutral',\n",
              "       'neutral', 'neutral', 'neutral', 'neutral', 'neutral', 'neutral',\n",
              "       'neutral', 'neutral', 'neutral', 'neutral', 'neutral', 'neutral',\n",
              "       'neutral', 'neutral', 'neutral', 'neutral', 'neutral', 'neutral',\n",
              "       'neutral', 'neutral', 'neutral'], dtype=object)"
            ]
          },
          "metadata": {},
          "execution_count": 26
        }
      ]
    },
    {
      "cell_type": "code",
      "source": [
        "y_test"
      ],
      "metadata": {
        "colab": {
          "base_uri": "https://localhost:8080/"
        },
        "id": "-vGet4E__KI-",
        "outputId": "02e697d6-7e64-4598-c9e3-6e43ff63440f"
      },
      "execution_count": null,
      "outputs": [
        {
          "output_type": "execute_result",
          "data": {
            "text/plain": [
              "array(['positive', 'neutral', 'negative', 'neutral', 'positive',\n",
              "       'neutral', 'neutral', 'positive', 'neutral', 'positive',\n",
              "       'negative', 'negative', 'neutral', 'negative', 'neutral',\n",
              "       'neutral', 'neutral', 'positive', 'positive', 'neutral',\n",
              "       'positive', 'negative', 'negative', 'positive', 'neutral',\n",
              "       'negative', 'negative', 'positive', 'neutral', 'positive',\n",
              "       'neutral', 'positive', 'neutral', 'negative', 'neutral', 'neutral',\n",
              "       'negative', 'positive', 'neutral', 'neutral', 'negative',\n",
              "       'positive', 'positive', 'neutral', 'neutral', 'negative',\n",
              "       'positive', 'negative', 'neutral', 'neutral', 'neutral',\n",
              "       'positive', 'neutral', 'neutral', 'neutral', 'neutral', 'positive',\n",
              "       'negative', 'negative', 'positive', 'positive', 'neutral',\n",
              "       'positive', 'neutral', 'positive', 'neutral', 'positive',\n",
              "       'neutral', 'neutral', 'negative', 'neutral', 'positive',\n",
              "       'positive', 'negative', 'negative'], dtype=object)"
            ]
          },
          "metadata": {},
          "execution_count": 27
        }
      ]
    },
    {
      "cell_type": "code",
      "source": [
        "accuracy_score(y_pred1,y_test)*100"
      ],
      "metadata": {
        "colab": {
          "base_uri": "https://localhost:8080/"
        },
        "id": "hMKNSF3S_N49",
        "outputId": "c30165bf-4eb7-4fab-bc97-06480d41a325"
      },
      "execution_count": null,
      "outputs": [
        {
          "output_type": "execute_result",
          "data": {
            "text/plain": [
              "46.666666666666664"
            ]
          },
          "metadata": {},
          "execution_count": 28
        }
      ]
    },
    {
      "cell_type": "code",
      "source": [
        "a1 = df['text'][2]\n",
        "print(a1)\n"
      ],
      "metadata": {
        "colab": {
          "base_uri": "https://localhost:8080/"
        },
        "id": "i5lfsNEC_S20",
        "outputId": "7da8e2cd-21a0-4c02-de03-11c85559ff7a"
      },
      "execution_count": null,
      "outputs": [
        {
          "output_type": "stream",
          "name": "stdout",
          "text": [
            "my boss is bullying me...\n"
          ]
        }
      ]
    },
    {
      "cell_type": "code",
      "source": [
        "text_model.predict([a1])"
      ],
      "metadata": {
        "colab": {
          "base_uri": "https://localhost:8080/"
        },
        "id": "Kcx--VxQ_yZi",
        "outputId": "7aab3686-4295-4e2d-cd09-61bf3c208ced"
      },
      "execution_count": null,
      "outputs": [
        {
          "output_type": "execute_result",
          "data": {
            "text/plain": [
              "array(['negative'], dtype=object)"
            ]
          },
          "metadata": {},
          "execution_count": 30
        }
      ]
    },
    {
      "cell_type": "code",
      "source": [
        "#Joblib \n",
        "import joblib\n",
        "joblib.dump(text_model,'twitter-analysis')\n",
        "#We are creating a new file called twitter-analysis,and we are dumping the pipelined model inside it"
      ],
      "metadata": {
        "colab": {
          "base_uri": "https://localhost:8080/"
        },
        "id": "5KxXyzkK_6b8",
        "outputId": "06c1dbdc-d758-4f7b-e116-b5796b1bbe85"
      },
      "execution_count": null,
      "outputs": [
        {
          "output_type": "execute_result",
          "data": {
            "text/plain": [
              "['twitter-analysis']"
            ]
          },
          "metadata": {},
          "execution_count": 31
        }
      ]
    },
    {
      "cell_type": "code",
      "source": [
        ""
      ],
      "metadata": {
        "id": "RmSJb0i5ARlv"
      },
      "execution_count": null,
      "outputs": []
    }
  ]
}